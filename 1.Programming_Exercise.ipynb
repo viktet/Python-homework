{
 "cells": [
  {
   "cell_type": "code",
   "execution_count": null,
   "metadata": {},
   "outputs": [],
   "source": [
    "\"\"\"\n",
    "<enter your names and matriculation numbers here>\n",
    "\"\"\""
   ]
  },
  {
   "cell_type": "code",
   "execution_count": 5,
   "metadata": {},
   "outputs": [],
   "source": [
    "# run this cell first\n",
    "import math"
   ]
  },
  {
   "cell_type": "markdown",
   "metadata": {},
   "source": [
    "## 1.1 Mean of numbers between 50 and 70\n",
    "\n",
    "Write a function called „mean_of_numbers_between_50_and_70“ that takes in a list as input argument. The function should calculate the mean value of the numbers between 50 and 70.\n",
    "\n",
    "Input list: sample_list = [6, 56, 47, 87, 34, 91, 34, 51, 74, 68, 11, 23, 39, 46, 63, 59]\n",
    "\n",
    "Your code should start like this:\n",
    "\n",
    "\tdef mean_of_numbers_between_50_and_70(ls):\n",
    "\t\t…\n",
    "\t\treturn <mean value of numbers between 50 and 70>"
   ]
  },
  {
   "cell_type": "code",
   "execution_count": 7,
   "metadata": {},
   "outputs": [
    {
     "name": "stdout",
     "output_type": "stream",
     "text": [
      "This is the result: 59.4\n"
     ]
    }
   ],
   "source": [
    "\"\"\"\n",
    "SOLUTION 1.1\n",
    "\"\"\"\n",
    "import statistics\n",
    "sample_list = [6, 56, 47, 87, 34, 91, 34, 51, 74, 68, 11, 23, 39, 46, 63, 59]\n",
    "\n",
    "def mean_of_numbers_between_50_and_70(ls):\n",
    "    mean_of_numbers_between_50_and_70 = []\n",
    "    for element in ls:\n",
    "        if element >=50 and element <=70:\n",
    "            mean_of_numbers_between_50_and_70.append(element)\n",
    "    \n",
    "    return statistics.mean(mean_of_numbers_between_50_and_70)\n",
    "print(\"This is the result:\", mean_of_numbers_between_50_and_70(sample_list))\n"
   ]
  },
  {
   "cell_type": "code",
   "execution_count": 2,
   "metadata": {},
   "outputs": [
    {
     "data": {
      "text/plain": [
       "59.4"
      ]
     },
     "execution_count": 2,
     "metadata": {},
     "output_type": "execute_result"
    }
   ],
   "source": [
    "import statistics\n",
    "sample_list = [6, 56, 47, 87, 34, 91, 34, 51, 74, 68, 11, 23, 39, 46, 63, 59]\n",
    "\n",
    "def mean_of_numbers_between_50_and_70(ls):\n",
    "    return statistics.mean(filter(lambda x: x>=50 and x<=70, ls))\n",
    "mean_of_numbers_between_50_and_70(sample_list)"
   ]
  },
  {
   "cell_type": "markdown",
   "metadata": {},
   "source": [
    "## 1.2 Filter numbers with square root <= 7\n",
    "\n",
    "Write a function called „filter_numbers_with_sqrt_below_7 “ that takes in a filter function (func) and a list (ls) as input arguments. The filter function (func) should be applied on the input list and return a list of all numbers whose square root is less than or equal to 7. Recommendation: use lambda and/or filter function and math.sqrt() to calculate square root.\n",
    "\n",
    "Input list: sample_list = [6, 56, 47, 87, 34, 91, 34, 51, 74, 68, 11, 23, 39, 46, 63, 59]\n",
    "\n",
    "Your code should start like this:\n",
    "\t\n",
    "\tfilter_func = …\n",
    "\n",
    "\tdef filter_numbers_with_sqrt_below_7 (func, ls):\n",
    "\t\treturn <all numbers whose square root is less than or equal to 7>\n",
    "\n",
    "Calling filter_numbers_with_sqrt_below_7 should output the list of numbers whose square roots are less than or equal to 7."
   ]
  },
  {
   "cell_type": "code",
   "execution_count": 9,
   "metadata": {},
   "outputs": [
    {
     "data": {
      "text/plain": [
       "[6, 47, 34, 34, 11, 23, 39, 46]"
      ]
     },
     "execution_count": 9,
     "metadata": {},
     "output_type": "execute_result"
    }
   ],
   "source": [
    "\"\"\"\n",
    "SOLUTION 1.2\n",
    "\"\"\"\n",
    "sample_list = [6, 56, 47, 87, 34, 91, 34, 51, 74, 68, 11, 23, 39, 46, 63, 59]\n",
    "def filter_numbers_with_sqrt_below_7(ls):\n",
    "    return list(filter(lambda x: math.sqrt(x)<=7,ls))\n",
    "filter_numbers_with_sqrt_below_7(sample_list)"
   ]
  },
  {
   "cell_type": "code",
   "execution_count": 33,
   "metadata": {},
   "outputs": [
    {
     "data": {
      "text/plain": [
       "[6, 47, 34, 34, 11, 23, 39, 46]"
      ]
     },
     "execution_count": 33,
     "metadata": {},
     "output_type": "execute_result"
    }
   ],
   "source": [
    "sample_list = [6, 56, 47, 87, 34, 91, 34, 51, 74, 68, 11, 23, 39, 46, 63, 59]\n",
    "\n",
    "filter_func = filter(lambda x: math.sqrt(x)<=7,sample_list)\n",
    "\n",
    "def filter_numbers_with_sqrt_below_7(func,ls):\n",
    "    return list(filter_func)\n",
    "filter_numbers_with_sqrt_below_7(filter_func,sample_list)"
   ]
  },
  {
   "cell_type": "code",
   "execution_count": 4,
   "metadata": {},
   "outputs": [
    {
     "name": "stdout",
     "output_type": "stream",
     "text": [
      "[6, 47, 34, 34, 11, 23, 39, 46]\n"
     ]
    }
   ],
   "source": [
    "import statistics\n",
    "import math\n",
    "\n",
    "sample_list = [6, 56, 47, 87, 34, 91, 34, 51, 74, 68, 11, 23, 39, 46, 63, 59]\n",
    "\n",
    "filter_func = filter(lambda x: math.sqrt(x)<=7,sample_list)\n",
    "\n",
    "def filter_numbers_with_sqrt_below_7(filter_func,sample_list):\n",
    "    return sample_list\n",
    "print(list(filter_func)) ### solution Dennis"
   ]
  },
  {
   "cell_type": "markdown",
   "metadata": {},
   "source": [
    "## 1.3 Convert Euros to Swedish Krona\n",
    "\n",
    "Write a function called „euros_to_swedish_krona “ that takes in a converter function (conv_func) and a list (ls) as input arguments. The converter function (func) should be applied on the input list and convert all Euro values into Swedish Krona values. Use an exchange rate of 1 Euro equals 10.83 Swedish Krona.\n",
    "Try to use map and lambda function. In case you use map-function, be aware that it outputs a map object which can be iterated to retrieve the stored values.\n",
    "\n",
    "Input list: sample_list = [50.5, 30.0, 156.0, 322.0, 21.0, 33.4, 654.9]\n",
    "\n",
    "Your code should start like this:\n",
    "\tconv_func = …\n",
    "\n",
    "\tdef euros_to_swedish_krona(conv_func, ls):\n",
    "\t\t…\n",
    "Calling euros_to_swedish_krona(conv_func, sample_list) should output the list with Swedish Krona values."
   ]
  },
  {
   "cell_type": "code",
   "execution_count": 40,
   "metadata": {},
   "outputs": [
    {
     "data": {
      "text/plain": [
       "[546.915, 324.9, 1689.48, 3487.26, 227.43, 361.722, 7092.567]"
      ]
     },
     "execution_count": 40,
     "metadata": {},
     "output_type": "execute_result"
    }
   ],
   "source": [
    "\"\"\"\n",
    "SOLUTION 1.3\n",
    "\"\"\"\n",
    "sample_list = [50.5, 30.0, 156.0, 322.0, 21.0, 33.4, 654.9]\n",
    "conv_func = map(lambda x: x*10.83,sample_list)\n",
    "list(conv_func)"
   ]
  },
  {
   "cell_type": "code",
   "execution_count": 6,
   "metadata": {},
   "outputs": [
    {
     "data": {
      "text/plain": [
       "[546.915, 324.9, 1689.48, 3487.26, 227.43, 361.722, 7092.567]"
      ]
     },
     "execution_count": 6,
     "metadata": {},
     "output_type": "execute_result"
    }
   ],
   "source": [
    "sample_list = [50.5, 30.0, 156.0, 322.0, 21.0, 33.4, 654.9]\n",
    "conv_func = map(lambda x: x*10.83,sample_list)\n",
    "def euros_to_swedish_krona(conv_func, ls):\n",
    "    return list(conv_func)\n",
    "euros_to_swedish_krona(conv_func, sample_list)"
   ]
  },
  {
   "cell_type": "markdown",
   "metadata": {},
   "source": [
    "## 1.4 Sort names\n",
    "\n",
    "Write a function called „sort_names “ that takes in a list as input argument. The function should sort the first names by their length in descending order.\n",
    "Hint: Search for information on the built-in function sort() and take a closer look at the input arguments key and reverse.\n",
    "\n",
    "Sample list: names = [“Thomas”, “Bernd”, “Susanne”, “Mona”, “Horst”, “Alexandra”]\n",
    "\n",
    "Your code should start like this:\n",
    "\n",
    "\tdef sort_names(ls):\n",
    "\t\t…\n",
    "\t\treturn <list with sorted names in descending order>\n",
    "\n",
    "Calling sort_names(names) should output: ['Alexandra', 'Susanne', 'Thomas', 'Bernd', 'Horst', 'Mona']"
   ]
  },
  {
   "cell_type": "code",
   "execution_count": 3,
   "metadata": {},
   "outputs": [
    {
     "data": {
      "text/plain": [
       "['Alexandra', 'Susanne', 'Thomas', 'Bernd', 'Horst', 'Mona']"
      ]
     },
     "execution_count": 3,
     "metadata": {},
     "output_type": "execute_result"
    }
   ],
   "source": [
    "\"\"\"\n",
    "SOLUTION 1.4\n",
    "\"\"\"\n",
    "names = ['Thomas', 'Bernd', 'Susanne', 'Mona', 'Horst', 'Alexandra']\n",
    "def sort_names(ls):\n",
    "    return sorted(ls,key=len, reverse=True)\n",
    "sort_names(names)"
   ]
  },
  {
   "cell_type": "markdown",
   "metadata": {},
   "source": [
    "## 1.5 Currying\n",
    "\n",
    "Write a function called „currying “ that takes in two functions called „factorial“ and „division_remainder“. „Division_remainder“ should be outer function, respectively „factorial“ represents the inner function.\n",
    "\n",
    "Mathematical definitions:\n",
    "Factorial: n!=𝑛 ∗(𝑛−1)∗(𝑛−2)∗… (can be used with math package)\n",
    "Division remainder using 13 as divider: It returns the remainder of dividing the left hand operand by 13. It's used to get the remainder of a division problem. (see Tutorial 1)\n",
    "\n",
    "This is the basis of your code:\n",
    "\n",
    "\tdef currying(g, f):\n",
    "\t\tdef h(x):\n",
    "\t\t\treturn g(f(x))\n",
    "\t\treturn h\n",
    "\n",
    "The inner and outer functions g and f have to be defined. Test your currying function with the following lines of code:\n",
    "\n",
    "value = currying(g,f)\n",
    "\n",
    "value(6) = 5 "
   ]
  },
  {
   "cell_type": "code",
   "execution_count": null,
   "metadata": {},
   "outputs": [],
   "source": [
    "\"\"\"\n",
    "SOLUTION 1.5\n",
    "\"\"\""
   ]
  },
  {
   "cell_type": "code",
   "execution_count": 10,
   "metadata": {},
   "outputs": [
    {
     "data": {
      "text/plain": [
       "5"
      ]
     },
     "execution_count": 10,
     "metadata": {},
     "output_type": "execute_result"
    }
   ],
   "source": [
    "# cell to test\n",
    "def currying(g, f):\n",
    "    def h(x):\n",
    "        return g(f(x))\n",
    "    return h\n",
    "\n",
    "\n",
    "def division_remainder(x):\n",
    "    return x%13\n",
    "\n",
    "def factorial (x):\n",
    "    return math.factorial(x)\n",
    "\n",
    "\n",
    "value = currying(division_remainder,factorial)\n",
    "value(6)"
   ]
  },
  {
   "cell_type": "code",
   "execution_count": null,
   "metadata": {},
   "outputs": [],
   "source": []
  }
 ],
 "metadata": {
  "kernelspec": {
   "display_name": "Python 3 (ipykernel)",
   "language": "python",
   "name": "python3"
  },
  "language_info": {
   "codemirror_mode": {
    "name": "ipython",
    "version": 3
   },
   "file_extension": ".py",
   "mimetype": "text/x-python",
   "name": "python",
   "nbconvert_exporter": "python",
   "pygments_lexer": "ipython3",
   "version": "3.9.12"
  }
 },
 "nbformat": 4,
 "nbformat_minor": 4
}
